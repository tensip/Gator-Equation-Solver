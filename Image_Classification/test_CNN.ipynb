{
 "cells": [
  {
   "cell_type": "code",
   "execution_count": 2,
   "metadata": {},
   "outputs": [],
   "source": [
    "\"\"\"\n",
    "Author @Sippapas Sukpholtham\n",
    "Master's Student in Mechanical and Aerospace Engineering\n",
    "University of Florida\n",
    "Dec, 2022\n",
    "\n",
    "\"\"\";"
   ]
  },
  {
   "attachments": {},
   "cell_type": "markdown",
   "metadata": {},
   "source": [
    "#### Importing all necessary libraries"
   ]
  },
  {
   "cell_type": "code",
   "execution_count": 9,
   "metadata": {},
   "outputs": [],
   "source": [
    "import numpy as np\n",
    "import matplotlib.pyplot as plt\n",
    "\n",
    "import torch\n",
    "import torch.nn as nn\n",
    "\n",
    "\n",
    "# from CNN.CNN_2 import CNN\n",
    "from sklearn.metrics import accuracy_score, confusion_matrix\n"
   ]
  },
  {
   "attachments": {},
   "cell_type": "markdown",
   "metadata": {},
   "source": [
    "#### Loading Data"
   ]
  },
  {
   "cell_type": "code",
   "execution_count": 10,
   "metadata": {},
   "outputs": [
    {
     "name": "stdout",
     "output_type": "stream",
     "text": [
      "(13600, 785)\n",
      "(13600, 784)\n",
      "(13600,)\n"
     ]
    }
   ],
   "source": [
    "# Loading data\n",
    "raw_data = np.load('data_for_training.npy')\n",
    "print(raw_data.shape)\n",
    "\n",
    "data = raw_data[:,:-1]\n",
    "print(data.shape)\n",
    "\n",
    "labels = raw_data[:,-1]\n",
    "print(labels.shape)"
   ]
  },
  {
   "attachments": {},
   "cell_type": "markdown",
   "metadata": {},
   "source": [
    "#### Rearranging the data so that we can input the data into a neural network"
   ]
  },
  {
   "cell_type": "code",
   "execution_count": 11,
   "metadata": {},
   "outputs": [],
   "source": [
    "# Reshaping the dimension before inputting into Neural Network\n",
    "data = data.reshape(data.shape[0], 28, 28)\n",
    "data = np.array(data, dtype='int64')\n",
    "labels = np.array(labels, dtype='int64')\n",
    "\n",
    "# Convert type of data from numpy to tensor\n",
    "data = torch.from_numpy(data)\n",
    "labels = torch.from_numpy(labels)"
   ]
  },
  {
   "attachments": {},
   "cell_type": "markdown",
   "metadata": {},
   "source": [
    "#### Print the example of the image"
   ]
  },
  {
   "cell_type": "code",
   "execution_count": 12,
   "metadata": {},
   "outputs": [
    {
     "name": "stdout",
     "output_type": "stream",
     "text": [
      "tensor(4)\n"
     ]
    },
    {
     "data": {
      "image/png": "[encoded data removed]",
      "text/plain": [
       "<Figure size 432x288 with 1 Axes>"
      ]
     },
     "metadata": {
      "needs_background": "light"
     },
     "output_type": "display_data"
    }
   ],
   "source": [
    "import random\n",
    "# test = np.array(x_train[0])\n",
    "N = random.randint(1, 10000)\n",
    "test = data[N].reshape(28, 28, 1)\n",
    "plt.imshow(test, cmap='gray')\n",
    "print(labels[N])"
   ]
  },
  {
   "attachments": {},
   "cell_type": "markdown",
   "metadata": {},
   "source": [
    "#### Changing the data from numpy to tensor and reshaping the data"
   ]
  },
  {
   "cell_type": "code",
   "execution_count": 13,
   "metadata": {},
   "outputs": [
    {
     "data": {
      "text/plain": [
       "torch.Size([13600, 1, 28, 28])"
      ]
     },
     "execution_count": 13,
     "metadata": {},
     "output_type": "execute_result"
    }
   ],
   "source": [
    "# Normalization of test data: shape from (number_of_data, 150, 150) to (number_of_data, 1, 150, 150)\n",
    "data_test = torch.unsqueeze(data, dim=1).type(torch.FloatTensor)/255\n",
    "data_test.shape"
   ]
  },
  {
   "attachments": {},
   "cell_type": "markdown",
   "metadata": {},
   "source": [
    "#### Convolutional Neural Networks that was designed"
   ]
  },
  {
   "cell_type": "code",
   "execution_count": 14,
   "metadata": {},
   "outputs": [
    {
     "data": {
      "text/plain": [
       "<All keys matched successfully>"
      ]
     },
     "execution_count": 14,
     "metadata": {},
     "output_type": "execute_result"
    }
   ],
   "source": [
    "# Device configuration\n",
    "device = torch.device('cuda' if torch.cuda.is_available() else 'cpu')\n",
    "\n",
    "class CNN(nn.Module):\n",
    "    def __init__(self):\n",
    "        super(CNN, self).__init__()\n",
    "        self.conv1 = nn.Sequential(         # input shape (1, 28, 28)\n",
    "            nn.Conv2d(\n",
    "                in_channels=1,              # input height\n",
    "                out_channels=32,            # n_filters\n",
    "                kernel_size=3,              # filter size\n",
    "                stride=1,                   # filter movement/step\n",
    "                padding=2,                  # padding\n",
    "            ),                              \n",
    "            nn.BatchNorm2d(32),             # normalization the data\n",
    "            nn.ReLU(),                      # activation function\n",
    "            nn.MaxPool2d(kernel_size=2),    # choose max value in 2x2 area\n",
    "            nn.Dropout2d(p=0.3)             # drop out 10% of data\n",
    "        )\n",
    "        self.conv2 = nn.Sequential(         \n",
    "            nn.Conv2d(32, 64, 3, 1, 2),     \n",
    "            nn.BatchNorm2d(64),\n",
    "            nn.ReLU(),                      \n",
    "            nn.MaxPool2d(2),                \n",
    "            nn.Dropout2d(p=0.3)\n",
    "        )\n",
    "        self.conv3 = nn.Sequential(         \n",
    "            nn.Conv2d(64, 128, 3, 1, 2),    \n",
    "            nn.BatchNorm2d(128),\n",
    "            nn.ReLU(),                      \n",
    "            nn.MaxPool2d(2),\n",
    "            nn.Dropout2d(p=0.3)\n",
    "        )\n",
    "        self.conv4 = nn.Sequential(         \n",
    "            nn.Conv2d(128, 128, 3, 1, 2),     \n",
    "            nn.BatchNorm2d(128),\n",
    "            nn.ReLU(),                      \n",
    "            nn.MaxPool2d(2),                \n",
    "            nn.Dropout2d(p=0.3)\n",
    "        )\n",
    "        # self.conv5 = nn.Sequential(         \n",
    "        #     nn.Conv2d(64, 64, 3, 1, 2),     \n",
    "        #     nn.BatchNorm2d(64),\n",
    "        #     nn.ReLU(),                      \n",
    "        #     nn.MaxPool2d(2),                \n",
    "        #     nn.Dropout2d(p=0.1),\n",
    "        # )\n",
    "\n",
    "        self.out1 = nn.Sequential(nn.Linear(1152, 1000), \n",
    "                                 nn.ReLU(),\n",
    "                                 nn.Dropout(p=0.3))\n",
    "        self.out2 = nn.Sequential(nn.Linear(1000 , 500),  \n",
    "                                 nn.ReLU(),\n",
    "                                 nn.Dropout(p=0.3))\n",
    "        self.out3 = nn.Sequential(nn.Linear(500 , 17))  # last fully connected layer,  output 17 classes\n",
    "\n",
    "    def forward(self, x):\n",
    "        # Convolutional layers\n",
    "        x = self.conv1(x)\n",
    "        x = self.conv2(x)\n",
    "        x = self.conv3(x)\n",
    "        x = self.conv4(x)\n",
    "        # x = self.conv5(x)\n",
    "        x = x.view(x.size(0), -1)  # flatten the output of conv2 to (BATCH_SIZE, 64 * 3 * 3)\n",
    "        # Linear layers          \n",
    "        output = self.out1(x)\n",
    "        output = self.out2(output)\n",
    "        output = self.out3(output)\n",
    "        return output, x\n",
    "\n",
    "# Call the model\n",
    "cnn = CNN().to(device)\n",
    "\n",
    "# Download the weights from training\n",
    "cnn.load_state_dict(torch.load('model1.pth'), strict=True)"
   ]
  },
  {
   "attachments": {},
   "cell_type": "markdown",
   "metadata": {},
   "source": [
    "#### Test the data by using our model"
   ]
  },
  {
   "cell_type": "code",
   "execution_count": 16,
   "metadata": {},
   "outputs": [
    {
     "name": "stdout",
     "output_type": "stream",
     "text": [
      "Test accuracy: 0.99603\n",
      "Confusion matrix of test set : \n",
      " [[797   0   0   0   0   0   1   0   0   0   0   0   0   0   1   0   1]\n",
      " [  0 778   1   1   0   0   0  16   0   0   0   0   0   1   0   3   0]\n",
      " [  0   0 797   0   1   0   0   0   0   0   1   0   1   0   0   0   0]\n",
      " [  0   0   0 799   0   0   0   0   0   1   0   0   0   0   0   0   0]\n",
      " [  0   0   0   0 799   0   0   0   0   0   1   0   0   0   0   0   0]\n",
      " [  0   0   0   0   0 798   1   0   0   1   0   0   0   0   0   0   0]\n",
      " [  0   0   1   0   0   0 793   0   0   0   0   0   0   0   6   0   0]\n",
      " [  0   0   0   0   0   0   0 798   0   0   0   1   1   0   0   0   0]\n",
      " [  0   0   0   0   0   0   0   0 799   0   0   0   0   0   1   0   0]\n",
      " [  0   0   0   0   0   1   0   0   0 799   0   0   0   0   0   0   0]\n",
      " [  0   0   1   0   1   0   0   0   0   0 797   0   0   0   0   1   0]\n",
      " [  0   0   0   0   0   0   0   0   0   0   0 800   0   0   0   0   0]\n",
      " [  0   0   0   0   0   0   0   0   0   0   0   0 800   0   0   0   0]\n",
      " [  0   0   0   0   1   0   0   0   0   0   0   0   0 799   0   0   0]\n",
      " [  0   0   0   0   0   0   5   0   0   0   0   0   0   0 795   0   0]\n",
      " [  0   0   0   0   0   0   0   0   0   0   0   0   0   0   0 800   0]\n",
      " [  0   0   1   0   0   0   0   0   0   0   1   0   0   0   0   0 798]]\n"
     ]
    }
   ],
   "source": [
    "# Testing data\n",
    "cnn.eval()\n",
    "\n",
    "pred_y = np.array([])\n",
    "for step in range(1, int((len(data_test))+1)):\n",
    "    test_output = cnn(data_test[(step-1):step].to(device))[0]\n",
    "    _ , prediction = torch.max(test_output, 1)\n",
    "    pred_y = np.append(pred_y, prediction.cpu().numpy())\n",
    "    data_test[(step-1):step].to('cpu')\n",
    "\n",
    "accuracy = accuracy_score(labels, pred_y)\n",
    "cm = confusion_matrix(labels, pred_y)\n",
    "\n",
    "print('Test accuracy: %.5f' % accuracy)\n",
    "print(\"Confusion matrix of test set : \\n\",cm)"
   ]
  }
 ],
 "metadata": {
  "kernelspec": {
   "display_name": "base",
   "language": "python",
   "name": "python3"
  },
  "language_info": {
   "codemirror_mode": {
    "name": "ipython",
    "version": 3
   },
   "file_extension": ".py",
   "mimetype": "text/x-python",
   "name": "python",
   "nbconvert_exporter": "python",
   "pygments_lexer": "ipython3",
   "version": "3.9.13 (main, Aug 25 2022, 23:51:50) [MSC v.1916 64 bit (AMD64)]"
  },
  "orig_nbformat": 4,
  "vscode": {
   "interpreter": {
    "hash": "37e539c8d40a03e9510857e177c5bc496c3bcb5968daf996e906447222e565b9"
   }
  }
 },
 "nbformat": 4,
 "nbformat_minor": 2
}
